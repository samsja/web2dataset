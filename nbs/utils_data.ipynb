{
 "cells": [
  {
   "cell_type": "code",
   "execution_count": null,
   "id": "197b309e-9b02-4e30-b9ce-61c86752d7ab",
   "metadata": {},
   "outputs": [],
   "source": [
    "# default_exp utils_data"
   ]
  },
  {
   "cell_type": "markdown",
   "id": "69022364-72bc-4ce5-bf2a-49ccbbaeabc9",
   "metadata": {},
   "source": [
    "# utils/data\n",
    "\n",
    "> It contains all the code that load data from files into docs"
   ]
  },
  {
   "cell_type": "code",
   "execution_count": null,
   "id": "eff86fc0-c7a4-4dcb-a863-da87879e6db2",
   "metadata": {},
   "outputs": [],
   "source": [
    "# hide\n",
    "%load_ext autoreload\n",
    "%autoreload 2"
   ]
  },
  {
   "cell_type": "code",
   "execution_count": null,
   "id": "9a5b36c9-f7fc-401a-94bb-96d888162f3a",
   "metadata": {},
   "outputs": [],
   "source": [
    "# hide\n",
    "from nbdev.showdoc import *"
   ]
  },
  {
   "cell_type": "code",
   "execution_count": null,
   "id": "32bed97b-d8dd-40cf-ad7b-51f6757a1226",
   "metadata": {},
   "outputs": [],
   "source": [
    "# export\n",
    "import json\n",
    "import os\n",
    "from typing import List\n",
    "\n",
    "import jsons\n",
    "\n",
    "from web2dataset.document import Document"
   ]
  },
  {
   "cell_type": "code",
   "execution_count": null,
   "id": "50415286-d4e0-4245-a73a-9a53379e1440",
   "metadata": {},
   "outputs": [],
   "source": [
    "import shutil\n",
    "\n",
    "from web2dataset.searcher import BasicSearcher"
   ]
  },
  {
   "cell_type": "markdown",
   "id": "b022f1fd-ffd2-41e7-bdbe-57b40f85e7b7",
   "metadata": {},
   "source": [
    "First we need a function that will load a json file into a document"
   ]
  },
  {
   "cell_type": "code",
   "execution_count": null,
   "id": "e450fb19-f2c7-4f40-b653-880599164050",
   "metadata": {},
   "outputs": [],
   "source": [
    "# export\n",
    "def file_to_doc(path_to_file: str) -> Document:\n",
    "    \"\"\"\n",
    "    Function  to load a json file into a web2dataset.Document\n",
    "    args:\n",
    "        path_to_file: str. A string containing the path to a json file\n",
    "    \"\"\"\n",
    "    with open(path_to_file) as json_file:\n",
    "        data = json.load(json_file)\n",
    "\n",
    "    return jsons.load(data,Document)"
   ]
  },
  {
   "cell_type": "markdown",
   "id": "11fba1cd-a745-4847-8a18-dc95f69c4d52",
   "metadata": {},
   "source": [
    "before trying it out we need the define a function to know where the metadata are stored inside the search folder"
   ]
  },
  {
   "cell_type": "code",
   "execution_count": null,
   "id": "73ccd627-d73d-473a-b718-aec209b7b327",
   "metadata": {},
   "outputs": [],
   "source": [
    "# export\n",
    "def get_metadata_path(path: str) -> str:\n",
    "    \"\"\"\n",
    "    Function to get the metadata path\n",
    "    args:\n",
    "        path: str. A string containing the path to the folder (where we have save a search for example)\n",
    "    \"\"\"\n",
    "    return f\"{path}/metadata\""
   ]
  },
  {
   "cell_type": "code",
   "execution_count": null,
   "id": "a046b628-0549-4e3d-8a74-0a3e7215d534",
   "metadata": {},
   "outputs": [],
   "source": [
    "path_test = \"/tmp/my_search\"\n",
    "if os.path.isdir(path_test):\n",
    "    shutil.rmtree(path_test)"
   ]
  },
  {
   "cell_type": "code",
   "execution_count": null,
   "id": "8fa5ab00-c3d0-43c9-8624-bbfb8378cd1d",
   "metadata": {},
   "outputs": [],
   "source": [
    "searcher = BasicSearcher(\"\", 5)\n",
    "searcher.search()\n",
    "searcher.save(path_test)"
   ]
  },
  {
   "cell_type": "code",
   "execution_count": null,
   "id": "fa088bf2-9aeb-43cd-bdbf-efaaecb5a058",
   "metadata": {},
   "outputs": [],
   "source": [
    "metadata_path = get_metadata_path(path_test)"
   ]
  },
  {
   "cell_type": "code",
   "execution_count": null,
   "id": "c4285d8f-452e-4f87-a465-3614f17b2306",
   "metadata": {},
   "outputs": [],
   "source": [
    "doc = file_to_doc(f\"{metadata_path}/{os.listdir(metadata_path)[0]}\")"
   ]
  },
  {
   "cell_type": "code",
   "execution_count": null,
   "id": "996d176b-d8fc-4cdb-8ef2-ecacb1edaab3",
   "metadata": {},
   "outputs": [
    {
     "data": {
      "text/plain": [
       "{\"date\": \"2021-12-04T12:35:18.136763+01:00\", \"image_url\": \"https://raw.githubusercontent.com/fastai/fastai/master/nbs/images/puppy.jpg\", \"origin\": \"https://www.google.fr\", \"uuid\": \"41a07e3e-54f6-11ec-b278-645d865124e9\"}"
      ]
     },
     "execution_count": null,
     "metadata": {},
     "output_type": "execute_result"
    }
   ],
   "source": [
    "doc"
   ]
  },
  {
   "cell_type": "code",
   "execution_count": null,
   "id": "57276a55-a39a-40f4-969f-4953227465d9",
   "metadata": {},
   "outputs": [],
   "source": [
    "assert type(doc) == Document"
   ]
  },
  {
   "cell_type": "markdown",
   "id": "f333aa62-7c69-4214-82fb-05daa034e70a",
   "metadata": {},
   "source": [
    "Now that we know how to load one file let's define a function to load all of the metada files at once"
   ]
  },
  {
   "cell_type": "code",
   "execution_count": null,
   "id": "1cd028c2-0803-4fc5-8d2c-c905eea14b13",
   "metadata": {},
   "outputs": [],
   "source": [
    "# export\n",
    "def load_docs(path: str) -> List[Document]:\n",
    "    \"\"\"\n",
    "    Function the metadata of a dataset, i.e it load the docs from the metadata folder of the dataset\n",
    "    args:\n",
    "        path: str. A string containing the path to the folder (where we have save a search for example)\n",
    "    \"\"\"\n",
    "\n",
    "    metadata_path = get_metadata_path(path)\n",
    "    if not os.path.isdir(metadata_path):\n",
    "        raise PathError(f\"not metadata subfolder in {path}\")\n",
    "\n",
    "    file_docs = os.listdir(metadata_path)\n",
    "\n",
    "    return [file_to_doc(f\"{metadata_path}/{file}\") for file in file_docs]"
   ]
  },
  {
   "cell_type": "code",
   "execution_count": null,
   "id": "e578eca9-f850-4e7f-8bbf-f8c0788533a2",
   "metadata": {},
   "outputs": [],
   "source": [
    "docs = load_docs(path_test)"
   ]
  },
  {
   "cell_type": "code",
   "execution_count": null,
   "id": "f669a3de-1585-4df5-8dfa-8601294d4aba",
   "metadata": {},
   "outputs": [
    {
     "data": {
      "text/plain": [
       "[{\"date\": \"2021-12-04T12:35:18.136763+01:00\", \"image_url\": \"https://raw.githubusercontent.com/fastai/fastai/master/nbs/images/puppy.jpg\", \"origin\": \"https://www.google.fr\", \"uuid\": \"41a07e3e-54f6-11ec-b278-645d865124e9\"},\n",
       " {\"date\": \"2021-12-04T12:35:18.136726+01:00\", \"image_url\": \"https://raw.githubusercontent.com/fastai/fastai/master/nbs/images/puppy.jpg\", \"origin\": \"https://www.google.fr\", \"uuid\": \"41a07cc2-54f6-11ec-b278-645d865124e9\"},\n",
       " {\"date\": \"2021-12-04T12:35:18.136685+01:00\", \"image_url\": \"https://raw.githubusercontent.com/fastai/fastai/master/nbs/images/puppy.jpg\", \"origin\": \"https://www.google.fr\", \"uuid\": \"41a07b3c-54f6-11ec-b278-645d865124e9\"},\n",
       " {\"date\": \"2021-12-04T12:35:18.136628+01:00\", \"image_url\": \"https://raw.githubusercontent.com/fastai/fastai/master/nbs/images/puppy.jpg\", \"origin\": \"https://www.google.fr\", \"uuid\": \"41a0795c-54f6-11ec-b278-645d865124e9\"},\n",
       " {\"date\": \"2021-12-04T12:35:18.136499+01:00\", \"image_url\": \"https://raw.githubusercontent.com/fastai/fastai/master/nbs/images/puppy.jpg\", \"origin\": \"https://www.google.fr\", \"uuid\": \"41a07628-54f6-11ec-b278-645d865124e9\"}]"
      ]
     },
     "execution_count": null,
     "metadata": {},
     "output_type": "execute_result"
    }
   ],
   "source": [
    "docs"
   ]
  }
 ],
 "metadata": {
  "kernelspec": {
   "display_name": "Python 3 (ipykernel)",
   "language": "python",
   "name": "python3"
  }
 },
 "nbformat": 4,
 "nbformat_minor": 5
}
