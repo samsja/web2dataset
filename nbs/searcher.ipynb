{
 "cells": [
  {
   "cell_type": "code",
   "execution_count": null,
   "metadata": {},
   "outputs": [],
   "source": [
    "# default_exp searcher"
   ]
  },
  {
   "cell_type": "markdown",
   "metadata": {},
   "source": [
    "# Searcher\n",
    "\n",
    "> Searchers are a one of the main block of web2dataset. They define the code to scrap the web for images"
   ]
  },
  {
   "cell_type": "code",
   "execution_count": null,
   "metadata": {},
   "outputs": [],
   "source": [
    "# hide\n",
    "from nbdev.showdoc import *"
   ]
  },
  {
   "cell_type": "markdown",
   "metadata": {},
   "source": [
    "here is the abstract class for the Searcher "
   ]
  },
  {
   "cell_type": "code",
   "execution_count": null,
   "metadata": {},
   "outputs": [],
   "source": [
    "# export\n",
    "import json\n",
    "import os\n",
    "from abc import ABC, abstractmethod\n",
    "from typing import List, Optional\n",
    "\n",
    "import jsons\n",
    "\n",
    "from web2dataset.cleaner import IdentityCleaner, MetaDataCleaner\n",
    "from web2dataset.document import Document"
   ]
  },
  {
   "cell_type": "code",
   "execution_count": null,
   "metadata": {},
   "outputs": [],
   "source": [
    "# exports\n",
    "\n",
    "#TODO : not use chdir\n",
    "class Searcher(ABC):\n",
    "    def __init__(\n",
    "        self, query: str, n_item: int, cleaners: Optional[List[MetaDataCleaner]] = None\n",
    "    ):\n",
    "        self.query = query\n",
    "        self.n_item = n_item\n",
    "        self.documents: List[Document] = []\n",
    "        self.cleaners = cleaners\n",
    "\n",
    "    @abstractmethod\n",
    "    def search(self):\n",
    "        pass\n",
    "\n",
    "    def clean(self):\n",
    "        if self.cleaners is not None:\n",
    "            for cleaner in self.cleaners:\n",
    "                self.documents = cleaner.clean(self.documents)\n",
    "\n",
    "    def save(self, path: str):\n",
    "        \"\"\"\n",
    "        path: folder path\n",
    "        \"\"\"\n",
    "\n",
    "        if not os.path.isdir(path):\n",
    "            os.mkdir(path)\n",
    "        os.chdir(path)\n",
    "\n",
    "        if not os.path.isdir(\"metadata\"):\n",
    "            os.mkdir(\"metadata\")\n",
    "        os.chdir(\"metadata\")\n",
    "\n",
    "        for doc in self.documents:\n",
    "            with open(f\"{doc.uuid}.json\", \"w\") as fp:\n",
    "                json.dump(jsons.dump(doc), fp)"
   ]
  },
  {
   "cell_type": "markdown",
   "metadata": {},
   "source": [
    "Example: simple searcher:\n",
    "this class will be used of testing"
   ]
  },
  {
   "cell_type": "code",
   "execution_count": null,
   "metadata": {},
   "outputs": [],
   "source": [
    "# export\n",
    "class BasicSearcher(Searcher):\n",
    "    def search(self):\n",
    "        self.documents += [\n",
    "            Document(\n",
    "                origin=\"https://www.google.fr\",\n",
    "                image_url=\"https://raw.githubusercontent.com/fastai/fastai/master/nbs/images/puppy.jpg\",\n",
    "            )\n",
    "            for _ in range(self.n_item)\n",
    "        ]"
   ]
  },
  {
   "cell_type": "markdown",
   "metadata": {},
   "source": [
    "let's define a searcher that will search random wallpaper on the web"
   ]
  },
  {
   "cell_type": "code",
   "execution_count": null,
   "metadata": {},
   "outputs": [],
   "source": [
    "cleaners = [IdentityCleaner()]\n",
    "searcher = BasicSearcher(\"wallpaper\", 2, cleaners)\n",
    "searcher.search()\n",
    "searcher.clean()\n",
    "assert len(searcher.documents) == searcher.n_item"
   ]
  },
  {
   "cell_type": "markdown",
   "metadata": {},
   "source": [
    "we can then save the documents by giving a folder path to the method save_docs_to_file"
   ]
  },
  {
   "cell_type": "code",
   "execution_count": null,
   "metadata": {},
   "outputs": [],
   "source": [
    "searcher.save(\"/tmp/my_search\")"
   ]
  },
  {
   "cell_type": "markdown",
   "metadata": {},
   "source": [
    "let's define the core error as well"
   ]
  },
  {
   "cell_type": "code",
   "execution_count": null,
   "metadata": {},
   "outputs": [],
   "source": [
    "# export\n",
    "class SearchError(ValueError):\n",
    "    pass"
   ]
  },
  {
   "cell_type": "markdown",
   "metadata": {},
   "source": [
    "# Google image searcher\n",
    "\n",
    "> The Google searcher is the first and main searcher"
   ]
  },
  {
   "cell_type": "code",
   "execution_count": null,
   "metadata": {},
   "outputs": [],
   "source": [
    "# export\n",
    "from contextlib import contextmanager\n",
    "\n",
    "from selenium import webdriver\n",
    "from selenium.webdriver.chrome.options import Options\n",
    "from selenium.webdriver.chrome.webdriver import WebDriver\n",
    "from selenium.webdriver.common.by import By\n",
    "from selenium.webdriver.remote.webelement import WebElement"
   ]
  },
  {
   "cell_type": "markdown",
   "metadata": {},
   "source": [
    "first lets design a simple context manager to open and close the web driver automatically"
   ]
  },
  {
   "cell_type": "code",
   "execution_count": null,
   "metadata": {},
   "outputs": [],
   "source": [
    "# export\n",
    "@contextmanager\n",
    "def _get_driver(debug=False):\n",
    "\n",
    "    if debug:\n",
    "        driver = webdriver.Chrome()\n",
    "    else:\n",
    "        chrome_options = Options()\n",
    "        chrome_options.add_argument(\"--headless\")\n",
    "        driver = webdriver.Chrome(options=chrome_options)\n",
    "    try:\n",
    "        yield driver\n",
    "    finally:\n",
    "        driver.quit()"
   ]
  },
  {
   "cell_type": "code",
   "execution_count": null,
   "metadata": {},
   "outputs": [],
   "source": [
    "with _get_driver() as driver:\n",
    "    pass"
   ]
  },
  {
   "cell_type": "markdown",
   "metadata": {},
   "source": [
    "Then the google image searcher"
   ]
  },
  {
   "cell_type": "code",
   "execution_count": null,
   "metadata": {},
   "outputs": [],
   "source": [
    "# export\n",
    "class GoogleImageSearchError(SearchError):\n",
    "    pass"
   ]
  },
  {
   "cell_type": "code",
   "execution_count": null,
   "metadata": {},
   "outputs": [],
   "source": [
    "# export\n",
    "class GoogleImageSearcher(Searcher):\n",
    "    \"\"\"\n",
    "    query: str, it contains the query that is send to google search\n",
    "    \"\"\"\n",
    "\n",
    "    def __init__(\n",
    "        self, query: str, n_item: int, cleaners: Optional[List[MetaDataCleaner]] = None\n",
    "    ):\n",
    "        super().__init__(query, n_item, cleaners)\n",
    "\n",
    "        self.google_image_url = self._create_url_from_query(self.query)\n",
    "\n",
    "    def _create_url_from_query(self, query: str) -> str:\n",
    "        if \"+\" in query:\n",
    "            raise GoogleImageSearchError(\n",
    "                \" + should not be in the query because the whitespace are replaced by + so the meaning is different\"\n",
    "            )\n",
    "        return f\"https://www.google.com/search?q={query.replace(' ','+')}&source=lnms&tbm=isch\"\n",
    "\n",
    "    def _element_to_document(self, element):\n",
    "        url = element.get_attribute(\"src\")\n",
    "        return Document(origin=self.query, image_url=url)\n",
    "\n",
    "    def _find_images(self, driver: WebDriver) -> List[WebElement]:\n",
    "        return driver.find_elements(By.CLASS_NAME, \"rg_i\")\n",
    "\n",
    "    def _scrap_all_images_in_current_page(self, driver: WebDriver):\n",
    "        elements = self._find_images(driver)\n",
    "        self.elements = elements\n",
    "        self.documents += [\n",
    "            self._element_to_document(e)\n",
    "            for i, e in enumerate(elements)\n",
    "            if len(self.documents) + i < self.n_item\n",
    "        ]\n",
    "\n",
    "    def _scroll_to_next_page(self, driver: WebDriver):\n",
    "        driver.execute_script(\"window.scrollTo(0, document.body.scrollHeight);\")\n",
    "\n",
    "    def search(self):\n",
    "        with _get_driver() as driver:\n",
    "\n",
    "            driver.get(self.google_image_url)\n",
    "\n",
    "            _continue = True\n",
    "            while _continue:\n",
    "                self._scrap_all_images_in_current_page(driver)\n",
    "                _continue = len(self.documents) < self.n_item\n",
    "\n",
    "                if _continue:\n",
    "                    self._scroll_to_next_page(driver)"
   ]
  },
  {
   "cell_type": "code",
   "execution_count": null,
   "metadata": {},
   "outputs": [],
   "source": [
    "ggl_searcher = GoogleImageSearcher(\n",
    "    \"race bike\",\n",
    "    100,\n",
    ")"
   ]
  },
  {
   "cell_type": "code",
   "execution_count": null,
   "metadata": {},
   "outputs": [
    {
     "name": "stdout",
     "output_type": "stream",
     "text": [
      "CPU times: user 98.8 ms, sys: 25.2 ms, total: 124 ms\n",
      "Wall time: 3.15 s\n"
     ]
    }
   ],
   "source": [
    "%%time\n",
    "ggl_searcher.search()"
   ]
  },
  {
   "cell_type": "code",
   "execution_count": null,
   "metadata": {},
   "outputs": [],
   "source": [
    "assert len(ggl_searcher.documents) == ggl_searcher.n_item"
   ]
  },
  {
   "cell_type": "code",
   "execution_count": null,
   "metadata": {},
   "outputs": [
    {
     "data": {
      "text/plain": [
       "(100, 42)"
      ]
     },
     "execution_count": null,
     "metadata": {},
     "output_type": "execute_result"
    }
   ],
   "source": [
    "url = [doc.image_url for doc in ggl_searcher.documents]\n",
    "len(url), len(set(url))"
   ]
  }
 ],
 "metadata": {
  "kernelspec": {
   "display_name": "Python 3 (ipykernel)",
   "language": "python",
   "name": "python3"
  }
 },
 "nbformat": 4,
 "nbformat_minor": 4
}
