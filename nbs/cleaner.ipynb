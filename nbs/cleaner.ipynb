{
 "cells": [
  {
   "cell_type": "code",
   "execution_count": null,
   "id": "75fcbd5f-31b1-4523-a5fd-763739826441",
   "metadata": {},
   "outputs": [],
   "source": [
    "# default_exp cleaner"
   ]
  },
  {
   "cell_type": "markdown",
   "id": "f67349d9-d059-40fd-8c23-f72a9b3f83aa",
   "metadata": {},
   "source": [
    "# Cleaner\n",
    "\n",
    "> The clearners are the last but not least blocks of web2dataset. Their goal is to purge and clean the dataset.\n",
    "\n",
    "Example of cleaner (not yet implemented):\n",
    "\n",
    "* delete double (based on hash)\n",
    "* delete image with low resolution\n",
    "* ethic base purger, how to ?\n",
    "\n"
   ]
  },
  {
   "cell_type": "code",
   "execution_count": null,
   "id": "0ed6fdad-d86e-48c5-a724-f6545391568b",
   "metadata": {},
   "outputs": [],
   "source": [
    "# hide\n",
    "from nbdev.showdoc import *"
   ]
  },
  {
   "cell_type": "code",
   "execution_count": null,
   "id": "9449780d-0577-47ee-8f8b-4d11c5879e50",
   "metadata": {},
   "outputs": [],
   "source": [
    "# hide\n",
    "%load_ext autoreload\n",
    "%autoreload 2"
   ]
  },
  {
   "cell_type": "code",
   "execution_count": null,
   "id": "58b344f2-80c9-4f91-b9bd-ac37015fc134",
   "metadata": {},
   "outputs": [],
   "source": [
    "# export\n",
    "from abc import ABC, abstractmethod"
   ]
  },
  {
   "cell_type": "markdown",
   "id": "7792dd25-a171-431d-9345-30a72df7fc74",
   "metadata": {},
   "source": [
    "# ImageCleaner"
   ]
  },
  {
   "cell_type": "code",
   "execution_count": null,
   "id": "24f77f56-b4c7-443b-8ec5-885ae1cca3bd",
   "metadata": {},
   "outputs": [],
   "source": [
    "# export\n",
    "class ImageCleaner:\n",
    "    def __init__(self, path: str):\n",
    "        self.path = path\n",
    "\n",
    "    def clean(self):\n",
    "        pass"
   ]
  },
  {
   "cell_type": "code",
   "execution_count": null,
   "id": "affa6806-54f9-460c-a8a2-26104729ab49",
   "metadata": {},
   "outputs": [],
   "source": [
    "class DuplicateImageCleaner(ImageCleaner):\n",
    "    pass"
   ]
  },
  {
   "cell_type": "code",
   "execution_count": null,
   "id": "9a0777ad-cf19-4e7b-8ada-ef4d5cd05a83",
   "metadata": {},
   "outputs": [],
   "source": []
  }
 ],
 "metadata": {
  "kernelspec": {
   "display_name": "Python 3 (ipykernel)",
   "language": "python",
   "name": "python3"
  }
 },
 "nbformat": 4,
 "nbformat_minor": 5
}
