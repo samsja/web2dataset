{
 "cells": [
  {
   "cell_type": "code",
   "execution_count": null,
   "id": "e783867f-2cb7-4907-83bd-f952acaa8112",
   "metadata": {},
   "outputs": [],
   "source": [
    "# default_exp documet"
   ]
  },
  {
   "cell_type": "markdown",
   "id": "6000c470-9931-4371-9242-3b2d4ca45bdd",
   "metadata": {},
   "source": [
    "# Document\n",
    "\n",
    "> Documents are a one of the main block of web2dataset. They define an item that has been scrap online. Freely inspired by [Jina AI document](https://docs.jina.ai/fundamentals/document/)"
   ]
  },
  {
   "cell_type": "code",
   "execution_count": null,
   "id": "f2bbbd11-b9cb-4bc7-ba48-4d0eb43a6ccd",
   "metadata": {},
   "outputs": [],
   "source": [
    "# export\n",
    "from datetime import datetime\n",
    "from zoneinfo import ZoneInfo"
   ]
  },
  {
   "cell_type": "code",
   "execution_count": null,
   "id": "4a6fe601-54ce-4a21-a3dc-2143927e43d0",
   "metadata": {},
   "outputs": [],
   "source": [
    "# exports\n",
    "class Document:\n",
    "    def __init__(self, origin: str, timezone: ZoneInfo = ZoneInfo(\"Europe/Paris\")):\n",
    "        self.date = datetime.now(timezone)\n",
    "        self.origin = origin"
   ]
  },
  {
   "cell_type": "markdown",
   "id": "9a82f3f9-c022-4989-bd19-d915e73960dd",
   "metadata": {},
   "source": [
    "In practice we can deserialized our document into a json with jsons and then save it as a file"
   ]
  },
  {
   "cell_type": "code",
   "execution_count": null,
   "id": "63816f05-c7b3-47ff-8d6f-78ebc9776686",
   "metadata": {},
   "outputs": [],
   "source": [
    "doc = Document(origin = \"https://google.fr\")"
   ]
  },
  {
   "cell_type": "code",
   "execution_count": null,
   "id": "fb3c1e91-f7b5-498b-a1ed-543e86fcb4a2",
   "metadata": {},
   "outputs": [],
   "source": [
    "import jsons"
   ]
  },
  {
   "cell_type": "code",
   "execution_count": null,
   "id": "7e48f49c-57a7-43d8-8cae-218c48545454",
   "metadata": {},
   "outputs": [
    {
     "data": {
      "text/plain": [
       "'{\"date\": \"2021-11-29T19:08:54.593405+01:00\", \"origin\": \"https://google.fr\"}'"
      ]
     },
     "execution_count": null,
     "metadata": {},
     "output_type": "execute_result"
    }
   ],
   "source": [
    "jsons.dumps(doc)"
   ]
  }
 ],
 "metadata": {
  "kernelspec": {
   "display_name": "Python 3 (ipykernel)",
   "language": "python",
   "name": "python3"
  }
 },
 "nbformat": 4,
 "nbformat_minor": 5
}
