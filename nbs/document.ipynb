{
 "cells": [
  {
   "cell_type": "code",
   "execution_count": null,
   "id": "e783867f-2cb7-4907-83bd-f952acaa8112",
   "metadata": {},
   "outputs": [],
   "source": [
    "# default_exp document"
   ]
  },
  {
   "cell_type": "markdown",
   "id": "6000c470-9931-4371-9242-3b2d4ca45bdd",
   "metadata": {},
   "source": [
    "# Document\n",
    "\n",
    "> Documents are a one of the main block of web2dataset. They define an item that has been scrap online. Freely inspired by [Jina AI document](https://docs.jina.ai/fundamentals/document/)"
   ]
  },
  {
   "cell_type": "code",
   "execution_count": null,
   "id": "f2bbbd11-b9cb-4bc7-ba48-4d0eb43a6ccd",
   "metadata": {},
   "outputs": [],
   "source": [
    "# export\n",
    "import uuid\n",
    "from datetime import datetime\n",
    "from typing import Optional\n",
    "from zoneinfo import ZoneInfo\n",
    "\n",
    "import jsons"
   ]
  },
  {
   "cell_type": "code",
   "execution_count": null,
   "id": "4a6fe601-54ce-4a21-a3dc-2143927e43d0",
   "metadata": {},
   "outputs": [],
   "source": [
    "# exports\n",
    "class Document:\n",
    "    def __init__(\n",
    "        self,\n",
    "        origin: str,\n",
    "        timezone: ZoneInfo = ZoneInfo(\"Europe/Paris\"),\n",
    "        image_url: Optional[str] = None,\n",
    "    ):\n",
    "        self.date = datetime.now(timezone)\n",
    "        self.origin = origin\n",
    "        self.image_url = image_url\n",
    "        self.uuid = uuid.uuid1()\n",
    "\n",
    "    def __repr__(self):\n",
    "        return jsons.dumps(self)"
   ]
  },
  {
   "cell_type": "markdown",
   "id": "9a82f3f9-c022-4989-bd19-d915e73960dd",
   "metadata": {},
   "source": [
    "In practice we can deserialized our document into a json with jsons and then save it as a file"
   ]
  },
  {
   "cell_type": "code",
   "execution_count": null,
   "id": "63816f05-c7b3-47ff-8d6f-78ebc9776686",
   "metadata": {},
   "outputs": [],
   "source": [
    "doc = Document(origin=\"https://google.fr\")"
   ]
  },
  {
   "cell_type": "code",
   "execution_count": null,
   "id": "7e48f49c-57a7-43d8-8cae-218c48545454",
   "metadata": {},
   "outputs": [
    {
     "name": "stdout",
     "output_type": "stream",
     "text": [
      "{\"date\": \"2021-11-30T14:53:48.283342+01:00\", \"image_url\": null, \"origin\": \"https://google.fr\", \"uuid\": \"f1353c82-51e4-11ec-9b54-645d865124e9\"}\n"
     ]
    }
   ],
   "source": [
    "print(doc)"
   ]
  }
 ],
 "metadata": {
  "kernelspec": {
   "display_name": "Python 3 (ipykernel)",
   "language": "python",
   "name": "python3"
  }
 },
 "nbformat": 4,
 "nbformat_minor": 5
}
