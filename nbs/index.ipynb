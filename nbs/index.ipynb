{
 "cells": [
  {
   "cell_type": "markdown",
   "metadata": {},
   "source": [
    "# web2dataset\n"
   ]
  },
  {
   "cell_type": "markdown",
   "metadata": {},
   "source": [
    "web2dataset is a modulable library built to easily create image dataset from google image and other.\n",
    "You can find the docs [here](https://samsja.github.io/web2dataset/)"
   ]
  },
  {
   "cell_type": "markdown",
   "metadata": {},
   "source": [
    "## Install"
   ]
  },
  {
   "cell_type": "markdown",
   "metadata": {},
   "source": [
    "```shell\n",
    "pip install git+https://github.com/samsja/web2dataset.git@master\n",
    "```"
   ]
  },
  {
   "cell_type": "markdown",
   "metadata": {},
   "source": [
    "## How to use"
   ]
  },
  {
   "cell_type": "markdown",
   "metadata": {},
   "source": [
    "let's perform a simple research on google image to search for 5 bike images"
   ]
  },
  {
   "cell_type": "code",
   "execution_count": null,
   "metadata": {},
   "outputs": [],
   "source": [
    "# hide\n",
    "%load_ext autoreload\n",
    "%autoreload 2"
   ]
  },
  {
   "cell_type": "code",
   "execution_count": null,
   "metadata": {},
   "outputs": [],
   "source": [
    "import json\n",
    "\n",
    "import jsons\n",
    "\n",
    "from web2dataset.cleaner import DuplicateCleaner\n",
    "from web2dataset.downloader import BasicDownloader\n",
    "from web2dataset.searcher import GoogleImageSearcher\n",
    "\n",
    "google_searcher = GoogleImageSearcher(\n",
    "    \"bike race\", n_item=5, cleaners=[DuplicateCleaner()]\n",
    ")\n",
    "google_searcher.search()\n",
    "google_searcher.clean()\n",
    "google_searcher.save(\"/tmp/my_search\")\n",
    "\n",
    "donwloader = BasicDownloader(\"/tmp/my_search\")\n",
    "donwloader.download()"
   ]
  },
  {
   "cell_type": "code",
   "execution_count": null,
   "metadata": {},
   "outputs": [],
   "source": []
  },
  {
   "cell_type": "code",
   "execution_count": null,
   "metadata": {},
   "outputs": [
    {
     "data": {
      "text/plain": [
       "(5, 5)"
      ]
     },
     "execution_count": null,
     "metadata": {},
     "output_type": "execute_result"
    }
   ],
   "source": [
    "len(google_searcher.documents),len(donwloader.documents)"
   ]
  },
  {
   "cell_type": "code",
   "execution_count": null,
   "metadata": {},
   "outputs": [
    {
     "name": "stdout",
     "output_type": "stream",
     "text": [
      "\u001b[01;34m/tmp/my_search\u001b[00m\n",
      "├── \u001b[01;34mimages\u001b[00m\n",
      "│   ├── b63bc05c-5378-11ec-8284-645d865124e9\n",
      "│   ├── b63d6fb0-5378-11ec-8284-645d865124e9\n",
      "│   ├── b63ec2d4-5378-11ec-8284-645d865124e9\n",
      "│   ├── b6400d24-5378-11ec-8284-645d865124e9\n",
      "│   └── b6423dec-5378-11ec-8284-645d865124e9\n",
      "└── \u001b[01;34mmetadata\u001b[00m\n",
      "    ├── b63bc05c-5378-11ec-8284-645d865124e9.json\n",
      "    ├── b63d6fb0-5378-11ec-8284-645d865124e9.json\n",
      "    ├── b63ec2d4-5378-11ec-8284-645d865124e9.json\n",
      "    ├── b6400d24-5378-11ec-8284-645d865124e9.json\n",
      "    └── b6423dec-5378-11ec-8284-645d865124e9.json\n",
      "\n",
      "2 directories, 10 files\n"
     ]
    }
   ],
   "source": [
    "!tree /tmp/my_search"
   ]
  },
  {
   "cell_type": "markdown",
   "metadata": {},
   "source": [
    "## How to contribute"
   ]
  },
  {
   "cell_type": "markdown",
   "metadata": {},
   "source": [
    "this project is built with [nbdev](https://github.com/fastai/nbdev)"
   ]
  },
  {
   "cell_type": "markdown",
   "metadata": {},
   "source": [
    "first clone the repo\n",
    "\n",
    "> ```git clone https://github.com/samsja/web2dataset```"
   ]
  },
  {
   "cell_type": "markdown",
   "metadata": {},
   "source": [
    "then install poetry\n",
    "> ```pip install poetry```"
   ]
  },
  {
   "cell_type": "markdown",
   "metadata": {},
   "source": [
    "then install the dev dependencies with poetry in a virtualenv\n",
    "\n",
    "> ```poetry install```"
   ]
  },
  {
   "cell_type": "markdown",
   "metadata": {},
   "source": [
    "then activate the virtual env\n",
    "> ```poetry shell```"
   ]
  },
  {
   "cell_type": "markdown",
   "metadata": {},
   "source": [
    " first install the git hooks\n",
    " > ```nbdev_install_git_hooks```"
   ]
  },
  {
   "cell_type": "markdown",
   "metadata": {},
   "source": [
    "then launch jupyter and code :)\n",
    "> ```jupyter lab```\n"
   ]
  },
  {
   "cell_type": "markdown",
   "metadata": {},
   "source": [
    "test your code with\n",
    "> nbdev_test_nbs"
   ]
  },
  {
   "cell_type": "markdown",
   "metadata": {},
   "source": [
    "finaly built the py files with nbdev and the docs\n",
    ">```nbdev_build_lib```\n",
    "\n",
    "> ```nbdev_build_docs```"
   ]
  },
  {
   "cell_type": "markdown",
   "metadata": {},
   "source": [
    "you are goot to go and submit your PR :)"
   ]
  },
  {
   "cell_type": "markdown",
   "metadata": {},
   "source": [
    "# TODO (not exhaustive)\n",
    "\n",
    "- [ ] use proper logging"
   ]
  }
 ],
 "metadata": {
  "kernelspec": {
   "display_name": "Python 3 (ipykernel)",
   "language": "python",
   "name": "python3"
  }
 },
 "nbformat": 4,
 "nbformat_minor": 4
}
