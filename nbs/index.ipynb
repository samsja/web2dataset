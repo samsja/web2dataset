{
 "cells": [
  {
   "cell_type": "code",
   "execution_count": null,
   "metadata": {},
   "outputs": [],
   "source": [
    "# hide\n",
    "from web2dataset.cleaner import *\n",
    "from web2dataset.downloader import *\n",
    "from web2dataset.searcher import *"
   ]
  },
  {
   "cell_type": "markdown",
   "metadata": {},
   "source": [
    "# web2dataset\n",
    "\n",
    "web2dataset is a modulable library built to easily create image dataset from google image and other.\n",
    "You can find the docs [here](https://samsja.github.io/web2dataset/)"
   ]
  },
  {
   "cell_type": "markdown",
   "metadata": {},
   "source": [
    "## Install"
   ]
  },
  {
   "cell_type": "markdown",
   "metadata": {},
   "source": [
    "```shell\n",
    "pip install git+https://github.com/samsja/web2dataset.git@master\n",
    "```"
   ]
  },
  {
   "cell_type": "markdown",
   "metadata": {},
   "source": [
    "## How to use"
   ]
  },
  {
   "cell_type": "markdown",
   "metadata": {},
   "source": [
    "let's perform a simple research on google image to search for 5 bike images"
   ]
  },
  {
   "cell_type": "code",
   "execution_count": null,
   "metadata": {},
   "outputs": [],
   "source": [
    "from web2dataset.searcher import GoogleImageSearcher\n",
    "import jsons\n",
    "import json\n",
    "\n",
    "google_searcher = GoogleImageSearcher(\n",
    "    \"https://www.google.fr/search?q=bike&hl=fr&tbm=isch&sxsrf=AOaemvJcg1mx6w-ERS3fiG7QS7DORk9IOw%3A1638274784048&source=hp&biw=1920&bih=971&ei=4BamYaFU_p2Muw_43YuoCg&iflsig=ALs-wAMAAAAAYaYk8KzfwTYwqaWeGpaKIQxMxICkwyh2&ved=0ahUKEwihxK6UicD0AhX-DmMBHfjuAqUQ4dUDCAU&uact=5&oq=bike&gs_lcp=CgNpbWcQAzIHCCMQ7wMQJzIHCCMQ7wMQJzIICAAQgAQQsQMyCAgAEIAEELEDMgUIABCABDIFCAAQgAQyBQgAEIAEMgUIABCABDIFCAAQgAQyBQgAEIAEOgoIIxDvAxDqAhAnOggIABCxAxCDAToLCAAQgAQQsQMQgwFQvxhYwSVgriZoBXAAeACAAUeIAfADkgEBOJgBAKABAaoBC2d3cy13aXotaW1nsAEK&sclient=img\",\n",
    "    n_item=5,\n",
    ")\n",
    "google_searcher.search()\n",
    "google_searcher.save(\"/tmp/my_search\")"
   ]
  },
  {
   "cell_type": "markdown",
   "metadata": {},
   "source": [
    "## How to contribute"
   ]
  },
  {
   "cell_type": "markdown",
   "metadata": {},
   "source": [
    "this project is built with [nbdev](https://github.com/fastai/nbdev)"
   ]
  },
  {
   "cell_type": "markdown",
   "metadata": {},
   "source": [
    "first clone the repo\n",
    "\n",
    "> ```git clone https://github.com/samsja/web2dataset```"
   ]
  },
  {
   "cell_type": "markdown",
   "metadata": {},
   "source": [
    "then install poetry\n",
    "> ```pip install poetry```"
   ]
  },
  {
   "cell_type": "markdown",
   "metadata": {},
   "source": [
    "then install the dev dependencies with poetry in a virtualenv\n",
    "\n",
    "> ```poetry install```"
   ]
  },
  {
   "cell_type": "markdown",
   "metadata": {},
   "source": [
    "then activate the virtual env\n",
    "> ```poetry shell```"
   ]
  },
  {
   "cell_type": "markdown",
   "metadata": {},
   "source": [
    " first install the git hooks\n",
    " > ```nbdev_install_git_hooks```"
   ]
  },
  {
   "cell_type": "markdown",
   "metadata": {},
   "source": [
    "then launch jupyter and code :)\n",
    "> ```jupyter lab```\n"
   ]
  },
  {
   "cell_type": "markdown",
   "metadata": {},
   "source": [
    "test your code with\n",
    "> nbdev_test_nbs"
   ]
  },
  {
   "cell_type": "markdown",
   "metadata": {},
   "source": [
    "finaly built the py files with nbdev and the docs\n",
    ">```nbdev_build_lib```\n",
    "\n",
    "> ```nbdev_build_docs```"
   ]
  },
  {
   "cell_type": "markdown",
   "metadata": {},
   "source": [
    "you are goot to go and submit your PR :)"
   ]
  }
 ],
 "metadata": {
  "kernelspec": {
   "display_name": "Python 3 (ipykernel)",
   "language": "python",
   "name": "python3"
  }
 },
 "nbformat": 4,
 "nbformat_minor": 4
}
