{
 "cells": [
  {
   "cell_type": "markdown",
   "metadata": {},
   "source": [
    "# web2dataset\n"
   ]
  },
  {
   "cell_type": "markdown",
   "metadata": {},
   "source": [
    "Web2dataset is a modulable library built to easily create image dataset from google image and other.\n",
    "You can find the docs [here](https://samsja.github.io/web2dataset/)"
   ]
  },
  {
   "cell_type": "markdown",
   "metadata": {},
   "source": [
    "Web2datast it's:\n",
    "\n",
    "* Easily create dataset from the web to train your own models for you own task\n",
    "* Clean them with the SOTA etich techniques\n",
    "* Modulable library that will allow sharing of cleaner and searcher\n",
    "* working in pair with Hugging face datasets, fasti ai, pytorch dataset and others \n",
    "\n",
    "The core value of Web2dataset are:\n",
    " * Ethic\n",
    " * Community based\n",
    " * fast and scalable"
   ]
  },
  {
   "cell_type": "markdown",
   "metadata": {},
   "source": [
    "## Install"
   ]
  },
  {
   "cell_type": "markdown",
   "metadata": {},
   "source": [
    "```shell\n",
    "pip install git+https://github.com/samsja/web2dataset.git@master\n",
    "```"
   ]
  },
  {
   "cell_type": "markdown",
   "metadata": {},
   "source": [
    "## How to use"
   ]
  },
  {
   "cell_type": "markdown",
   "metadata": {},
   "source": [
    "let's perform a simple research on google image to search for 5 bike images"
   ]
  },
  {
   "cell_type": "code",
   "execution_count": null,
   "metadata": {},
   "outputs": [],
   "source": [
    "# hide\n",
    "%load_ext autoreload\n",
    "%autoreload 2"
   ]
  },
  {
   "cell_type": "code",
   "execution_count": null,
   "metadata": {},
   "outputs": [],
   "source": [
    "import json\n",
    "\n",
    "import jsons\n",
    "\n",
    "from web2dataset.cleaner import DuplicateCleaner\n",
    "from web2dataset.downloader import BasicDownloader\n",
    "from web2dataset.searcher import GoogleImageSearcher\n",
    "\n",
    "google_searcher = GoogleImageSearcher(\n",
    "    \"bike race\", n_item=5, cleaners=[DuplicateCleaner()]\n",
    ")\n",
    "google_searcher.search()\n",
    "google_searcher.clean()\n",
    "google_searcher.save(\"/tmp/my_search\")\n",
    "\n",
    "donwloader = BasicDownloader(\"/tmp/my_search\")\n",
    "donwloader.download()"
   ]
  },
  {
   "cell_type": "markdown",
   "metadata": {},
   "source": [
    "and here you are with two folder containing the images and the metadata"
   ]
  },
  {
   "cell_type": "code",
   "execution_count": null,
   "metadata": {},
   "outputs": [
    {
     "name": "stdout",
     "output_type": "stream",
     "text": [
      "\u001b[01;34m/tmp/my_search\u001b[00m\n",
      "├── \u001b[01;34mimages\u001b[00m\n",
      "│   ├── 41a07628-54f6-11ec-b278-645d865124e9\n",
      "│   ├── 41a0795c-54f6-11ec-b278-645d865124e9\n",
      "│   ├── 41a07b3c-54f6-11ec-b278-645d865124e9\n",
      "│   ├── 41a07cc2-54f6-11ec-b278-645d865124e9\n",
      "│   ├── 41a07e3e-54f6-11ec-b278-645d865124e9\n",
      "│   ├── 97cce43c-54f6-11ec-b2e3-645d865124e9\n",
      "│   ├── 97d25fa2-54f6-11ec-b2e3-645d865124e9\n",
      "│   ├── 97dc6d6c-54f6-11ec-b2e3-645d865124e9\n",
      "│   ├── 97df7d54-54f6-11ec-b2e3-645d865124e9\n",
      "│   └── 97e2be2e-54f6-11ec-b2e3-645d865124e9\n",
      "└── \u001b[01;34mmetadata\u001b[00m\n",
      "    ├── 41a07628-54f6-11ec-b278-645d865124e9.json\n",
      "    ├── 41a0795c-54f6-11ec-b278-645d865124e9.json\n",
      "    ├── 41a07b3c-54f6-11ec-b278-645d865124e9.json\n",
      "    ├── 41a07cc2-54f6-11ec-b278-645d865124e9.json\n",
      "    ├── 41a07e3e-54f6-11ec-b278-645d865124e9.json\n",
      "    ├── 97cce43c-54f6-11ec-b2e3-645d865124e9.json\n",
      "    ├── 97d25fa2-54f6-11ec-b2e3-645d865124e9.json\n",
      "    ├── 97dc6d6c-54f6-11ec-b2e3-645d865124e9.json\n",
      "    ├── 97df7d54-54f6-11ec-b2e3-645d865124e9.json\n",
      "    └── 97e2be2e-54f6-11ec-b2e3-645d865124e9.json\n",
      "\n",
      "2 directories, 20 files\n"
     ]
    }
   ],
   "source": [
    "!tree /tmp/my_search"
   ]
  },
  {
   "cell_type": "markdown",
   "metadata": {},
   "source": [
    "Web scraping is so important for data science. Indeed most of the data, either image or text that Ml models are trained on come from the web. (cite crawl dataset). It allows small research teams, startups and people doing personal projects to finetune models on their own scrap data for their own needs. As an example, let's say that I want to create a dog versus cat classifier. It seems a \"fairly simple\" task, deep learning models, cnn or transformers, are good to perform classification and thanks to pretrain models and transfer learning (cc fastai/Hugging face) you don't have an enormous amount of data to train your models. But you still need some images, at least a couple hundreds of images. Even if such an amount is small from a deep learning perspective, it is still a huge amount for humans. Without web scraping you may have to ask all your friends for a photo of their cats/dogs (and I hope you have enough friends). But with web scraping you can do it within seconds. Amazing.\n",
    "\n",
    "In the ML field, there are plenty of open source libraries to train and fitune your NN easily, you can even use the SOTA models (HF) out of the box without being a research engineer and implement every paper from scratch. You spawn a GPU instance within minutes without having to configure anything, find hyperparameters automatically etc ...\n",
    "But you don't have the tools to create a dataset easily. And you can use the last and biggest transformers based vision models if you don't have enough quality data you won't get anything. Of course you can use one of the thousands of dataset from hugging face ! But you have to wait for someone to prepare the right dataset for your case. What if you could do it yourself with some web scraping without being a selenium or javascript expert ?\n",
    "That's the first goal of Web2dataset (the name is still definitive yet open to suggestion), create a dataset in minutes for your needs.\n",
    "\n",
    "Web2dataset is thought to be modulable, add every kind of image source you want as a Searcher, add any kind of Cleaner, i.e way of deleting bad samples from your dataset.\n",
    "\n",
    "Web2datast has a second, maybe even more important, goal : clean your dataset and include ethic way of creating a dataset. Indeed, let's be honest, internet is sometime full of crap. You won't let your child only from scrolling on internet would you ? Well it should be the same with yours models. How to scrap only \"good\" and \"ethic\" data ? That's an open question, with a lot of researchers working on it (cc Tournesol). Web2datase is built from its core around this idea of scraping \"ethics\" data and it will (someday) incorporate state of the art cleaning technique to keep a dataset ethic and safe.\n",
    "\n"
   ]
  },
  {
   "cell_type": "markdown",
   "metadata": {},
   "source": [
    "## How to contribute"
   ]
  },
  {
   "cell_type": "markdown",
   "metadata": {},
   "source": [
    "this project is built with [nbdev](https://github.com/fastai/nbdev)"
   ]
  },
  {
   "cell_type": "markdown",
   "metadata": {},
   "source": [
    "first clone the repo\n",
    "\n",
    "> ```git clone https://github.com/samsja/web2dataset```"
   ]
  },
  {
   "cell_type": "markdown",
   "metadata": {},
   "source": [
    "then install poetry\n",
    "> ```pip install poetry```"
   ]
  },
  {
   "cell_type": "markdown",
   "metadata": {},
   "source": [
    "then install the dev dependencies with poetry in a virtualenv\n",
    "\n",
    "> ```poetry install```"
   ]
  },
  {
   "cell_type": "markdown",
   "metadata": {},
   "source": [
    "then activate the virtual env\n",
    "> ```poetry shell```"
   ]
  },
  {
   "cell_type": "markdown",
   "metadata": {},
   "source": [
    " first install the git hooks\n",
    " > ```nbdev_install_git_hooks```"
   ]
  },
  {
   "cell_type": "markdown",
   "metadata": {},
   "source": [
    "then launch jupyter and code :)\n",
    "> ```jupyter lab```\n"
   ]
  },
  {
   "cell_type": "markdown",
   "metadata": {},
   "source": [
    "test your code with\n",
    "> nbdev_test_nbs"
   ]
  },
  {
   "cell_type": "markdown",
   "metadata": {},
   "source": [
    "finaly built the py files with nbdev and the docs\n",
    ">```nbdev_build_lib```\n",
    "\n",
    "> ```nbdev_build_docs```"
   ]
  },
  {
   "cell_type": "markdown",
   "metadata": {},
   "source": [
    "you are goot to go and submit your PR :)"
   ]
  },
  {
   "cell_type": "markdown",
   "metadata": {},
   "source": [
    "# TODO (not exhaustive)\n",
    "\n",
    "- [ ] use proper logging"
   ]
  }
 ],
 "metadata": {
  "kernelspec": {
   "display_name": "Python 3 (ipykernel)",
   "language": "python",
   "name": "python3"
  }
 },
 "nbformat": 4,
 "nbformat_minor": 4
}
