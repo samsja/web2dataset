{
 "cells": [
  {
   "cell_type": "code",
   "execution_count": null,
   "id": "f6d57302-159b-426e-9035-4d39a66e1240",
   "metadata": {},
   "outputs": [],
   "source": [
    "# default_exp downloader"
   ]
  },
  {
   "cell_type": "markdown",
   "id": "650a3f76-f12f-4b17-bd83-88ab62e0ac30",
   "metadata": {},
   "source": [
    "# Downloader\n",
    "\n",
    "> The Downloader is the second block of web2dataset. As its names says it is the part that will donwload the data found by the searchers\n"
   ]
  },
  {
   "cell_type": "code",
   "execution_count": null,
   "id": "a721be2c-3f9f-4a06-b8cb-e82f627a5b7b",
   "metadata": {},
   "outputs": [],
   "source": [
    "# hide\n",
    "from nbdev.showdoc import *"
   ]
  },
  {
   "cell_type": "code",
   "execution_count": null,
   "id": "ac56843e-85ee-4677-86e8-6b1c758cb2c6",
   "metadata": {},
   "outputs": [],
   "source": [
    "# exports\n",
    "class Downloader:\n",
    "    def __init__(path: str):\n",
    "        self.path = path\n",
    "\n",
    "    def download(self, data_uri: str):\n",
    "        pass"
   ]
  },
  {
   "cell_type": "code",
   "execution_count": null,
   "id": "e974b4fb-d2cb-475c-bf9b-ae18539c0430",
   "metadata": {},
   "outputs": [],
   "source": [
    "# export\n",
    "class BasicDownloader(Downloader):\n",
    "    pass"
   ]
  },
  {
   "cell_type": "code",
   "execution_count": null,
   "id": "6990ff4d-6f73-4b03-b517-8aebbe311c2b",
   "metadata": {},
   "outputs": [],
   "source": [
    "# export\n",
    "class MultiThreadedDownloader(Downloader):\n",
    "    pass"
   ]
  }
 ],
 "metadata": {
  "kernelspec": {
   "display_name": "Python 3 (ipykernel)",
   "language": "python",
   "name": "python3"
  }
 },
 "nbformat": 4,
 "nbformat_minor": 5
}
