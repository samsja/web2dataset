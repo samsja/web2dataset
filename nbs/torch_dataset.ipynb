{
 "cells": [
  {
   "cell_type": "code",
   "execution_count": null,
   "id": "def98253-efe7-42f1-a7d4-baf01ae39c43",
   "metadata": {},
   "outputs": [],
   "source": [
    "# default_exp torch_dataset"
   ]
  },
  {
   "cell_type": "markdown",
   "id": "8f578be7-8299-4b45-ad03-0753c28451c4",
   "metadata": {},
   "source": [
    "# Torch dataset\n",
    "\n",
    "Now that you have compose your dataset you would like to be able to use it to train a neural network for example.\n",
    "You may want a torch dataset:\n",
    "\n"
   ]
  },
  {
   "cell_type": "code",
   "execution_count": null,
   "id": "da17c1cf-2224-481f-90aa-4b226a323dc4",
   "metadata": {},
   "outputs": [],
   "source": [
    "# hide\n",
    "%load_ext autoreload\n",
    "%autoreload 2"
   ]
  },
  {
   "cell_type": "code",
   "execution_count": null,
   "id": "31eb1ace-207a-43c4-bcb5-44cb2631acd4",
   "metadata": {},
   "outputs": [],
   "source": [
    "# hide\n",
    "from nbdev.showdoc import *"
   ]
  },
  {
   "cell_type": "code",
   "execution_count": null,
   "id": "154b95e0-36d9-42a3-bf06-2085440ca854",
   "metadata": {},
   "outputs": [],
   "source": [
    "# export\n",
    "from typing import Callable\n",
    "\n",
    "from docarray import Document, DocumentArray\n",
    "from torch.utils.data import Dataset\n",
    "from torchvision.datasets.folder import default_loader\n",
    "import torchvision as tv"
   ]
  },
  {
   "cell_type": "code",
   "execution_count": null,
   "id": "a3186897-4426-4ca0-bc10-46f79fa4b6a7",
   "metadata": {},
   "outputs": [],
   "source": [
    "# export\n",
    "class TorchDataset(Dataset):\n",
    "    \"\"\"\n",
    "    A torch dataset for web2dataset  that you can use to train model with pytorch\n",
    "    \"\"\"\n",
    "\n",
    "    def __init__(self, path: str ,transform : Callable = tv.transforms.ToTensor()):\n",
    "        \"\"\"\n",
    "        path: folder from where to load the web2dataset dataset\n",
    "        transform: a torchvision transform function to apply augmentation and converstion\n",
    "        \"\"\"\n",
    "        self.path = path\n",
    "        self.transform = transform\n",
    "\n",
    "        with open(f\"{path}/dataset.bin\", \"rb\") as f:\n",
    "            self.docs = DocumentArray.from_bytes(f.read())\n",
    "\n",
    "    def __getitem__(self, key):\n",
    "\n",
    "        document = self.docs[key]\n",
    "        tensor = default_loader(f\"{self.path}/{document.uri}\")\n",
    "        tensor = self.transform(tensor)\n",
    "\n",
    "        return tensor, document.tags\n",
    "\n",
    "    def __len__(self):\n",
    "        return len(self.docs)"
   ]
  },
  {
   "cell_type": "markdown",
   "id": "e8433ed8-0815-4e2e-a861-c76ab1fadd8d",
   "metadata": {},
   "source": [
    "## Example"
   ]
  },
  {
   "cell_type": "code",
   "execution_count": null,
   "id": "4324fea8-d792-4cce-a669-561b8c273e2c",
   "metadata": {},
   "outputs": [],
   "source": [
    "test_folder = \"/tmp/test\""
   ]
  },
  {
   "cell_type": "code",
   "execution_count": null,
   "id": "41774dbe-08fe-4745-9c8d-de8c9eef3f9e",
   "metadata": {},
   "outputs": [],
   "source": [
    "# hide\n",
    "import shutil\n",
    "\n",
    "shutil.rmtree(test_folder, ignore_errors=True)"
   ]
  },
  {
   "cell_type": "code",
   "execution_count": null,
   "id": "7a2a924b-b55b-4e89-b981-c652ae3105fc",
   "metadata": {},
   "outputs": [
    {
     "data": {
      "application/vnd.jupyter.widget-view+json": {
       "model_id": "5fc6ce8b98cb48a089ce34eac65ead27",
       "version_major": 2,
       "version_minor": 0
      },
      "text/plain": [
       "Output()"
      ]
     },
     "metadata": {},
     "output_type": "display_data"
    },
    {
     "data": {
      "text/html": [
       "<pre style=\"white-space:pre;overflow-x:auto;line-height:normal;font-family:Menlo,'DejaVu Sans Mono',consolas,'Courier New',monospace\"></pre>\n"
      ],
      "text/plain": []
     },
     "metadata": {},
     "output_type": "display_data"
    },
    {
     "data": {
      "text/html": [
       "<pre style=\"white-space:pre;overflow-x:auto;line-height:normal;font-family:Menlo,'DejaVu Sans Mono',consolas,'Courier New',monospace\">\n",
       "</pre>\n"
      ],
      "text/plain": [
       "\n"
      ]
     },
     "metadata": {},
     "output_type": "display_data"
    }
   ],
   "source": [
    "from web2dataset.downloader import GoogleImageDownloader\n",
    "\n",
    "downloader = GoogleImageDownloader(f\"{test_folder}/bikedataset\")\n",
    "downloader.download(\"gravel bike\", 16)"
   ]
  },
  {
   "cell_type": "code",
   "execution_count": null,
   "id": "4b2db881-cd35-451f-88a7-214a3460543a",
   "metadata": {},
   "outputs": [
    {
     "name": "stdout",
     "output_type": "stream",
     "text": [
      "dataset.bin  images\n"
     ]
    }
   ],
   "source": [
    "!ls /tmp/test/bikedataset"
   ]
  },
  {
   "cell_type": "code",
   "execution_count": null,
   "id": "a880eb8e-d117-4196-98e9-95ba8d256535",
   "metadata": {},
   "outputs": [],
   "source": [
    "dataset = TorchDataset(f\"{test_folder}/bikedataset\")"
   ]
  },
  {
   "cell_type": "code",
   "execution_count": null,
   "id": "21fabac8-7280-48ad-b70b-6857a7d753c8",
   "metadata": {},
   "outputs": [
    {
     "data": {
      "text/plain": [
       "(torch.Size([3, 168, 300]),\n",
       " {'tag': {'uuid': '05efe344-bcbf-11ec-8530-645d865124e9',\n",
       "   'origin': 'gravel bike'}})"
      ]
     },
     "execution_count": null,
     "metadata": {},
     "output_type": "execute_result"
    }
   ],
   "source": [
    "dataset[0][0].shape, dataset[0][1]"
   ]
  }
 ],
 "metadata": {
  "kernelspec": {
   "display_name": "Python 3 (ipykernel)",
   "language": "python",
   "name": "python3"
  }
 },
 "nbformat": 4,
 "nbformat_minor": 5
}
