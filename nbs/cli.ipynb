{
 "cells": [
  {
   "cell_type": "code",
   "execution_count": null,
   "id": "f8286559-4c8b-420f-9586-16332156dfdd",
   "metadata": {},
   "outputs": [],
   "source": [
    "# default_exp cli"
   ]
  },
  {
   "cell_type": "markdown",
   "id": "29e87c45-2771-45ed-aa22-740532ee63d1",
   "metadata": {},
   "source": [
    "# CLI\n",
    "\n",
    "> Defining the CLI interface for web2dataset"
   ]
  },
  {
   "cell_type": "code",
   "execution_count": null,
   "id": "4355f442-2e0e-43cb-8883-310f8db8d412",
   "metadata": {},
   "outputs": [],
   "source": [
    "# hide\n",
    "%load_ext autoreload\n",
    "%autoreload 2"
   ]
  },
  {
   "cell_type": "code",
   "execution_count": null,
   "id": "ade9fef4-df20-4666-baf3-67ce4d4198fd",
   "metadata": {},
   "outputs": [],
   "source": [
    "# hide\n",
    "import nbdev\n",
    "from nbdev.showdoc import *"
   ]
  },
  {
   "cell_type": "code",
   "execution_count": null,
   "id": "da0805ab-ea92-40b7-a578-1d60059d5491",
   "metadata": {},
   "outputs": [],
   "source": [
    "# export\n",
    "from pathlib import Path\n",
    "from typing import List\n",
    "\n",
    "import typer\n",
    "\n",
    "from web2dataset.downloader import GoogleImageDownloader\n",
    "from web2dataset.paralel import ParalelDownload"
   ]
  },
  {
   "cell_type": "code",
   "execution_count": null,
   "id": "bbe304a8-d835-46d6-8187-a61b894e7a30",
   "metadata": {},
   "outputs": [],
   "source": [
    "# export\n",
    "def scrap(\n",
    "    n_item: int = typer.Argument(..., help=\"The number of element you want to scrap\"),\n",
    "    queries: List[str] = typer.Argument(..., help=\"The queries for your scrapping\"),\n",
    "    path: Path = typer.Argument(\n",
    "        Path(\".\"), help=\"The folder where to download the dataset\"\n",
    "    ),\n",
    "    num_workers: int = typer.Argument(4, help=\"The number of worker\"),\n",
    "):\n",
    "    if len(queries) == 1:\n",
    "        GoogleImageDownloader(str(path)).download(queries[0])\n",
    "    else:\n",
    "        num_workers = min(num_workers, len(queries))\n",
    "        ParalelDownload(\n",
    "            str(path), GoogleImageDownloader, num_workers=num_workers\n",
    "        ).download(list(queries), n_item)"
   ]
  },
  {
   "cell_type": "code",
   "execution_count": null,
   "id": "e95df42b-ccac-40c1-81e6-563d70646b59",
   "metadata": {},
   "outputs": [
    {
     "name": "stdout",
     "output_type": "stream",
     "text": [
      "running in a notebook\n"
     ]
    }
   ],
   "source": [
    "# export\n",
    "\n",
    "def cli():\n",
    "    typer.run(scrap)\n",
    "\n",
    "\n",
    "if __name__ == \"__main__\":\n",
    "    from IPython import get_ipython\n",
    "\n",
    "    if not get_ipython():\n",
    "        cli()\n",
    "    else:\n",
    "        print(\"running in a notebook\")"
   ]
  },
  {
   "cell_type": "code",
   "execution_count": null,
   "id": "6f6aed9a-48cd-4cad-9aba-92f0131c1256",
   "metadata": {},
   "outputs": [
    {
     "name": "stdout",
     "output_type": "stream",
     "text": [
      "Converted cli.ipynb.\n"
     ]
    }
   ],
   "source": [
    "# hide\n",
    "import os\n",
    "\n",
    "if os.getcwd().endswith(\"web2dataset\"):\n",
    "    os.chdir(\"nbs\")\n",
    "nbdev.export.notebook2script(fname=\"cli.ipynb\")"
   ]
  },
  {
   "cell_type": "code",
   "execution_count": null,
   "id": "c91a7c8d-201e-4658-9183-7ee071c8d66e",
   "metadata": {},
   "outputs": [],
   "source": [
    "# hide\n",
    "import os\n",
    "\n",
    "if os.getcwd().endswith(\"nbs\"):\n",
    "    os.chdir(\"..\")"
   ]
  },
  {
   "cell_type": "code",
   "execution_count": null,
   "id": "68bddda7-06e3-4a55-9368-0135a785b90f",
   "metadata": {},
   "outputs": [
    {
     "name": "stdout",
     "output_type": "stream",
     "text": [
      "\u001b[2KScrapping bike ...      \u001b[38;5;237m━━━━━━━━━━━━━━━━━━━━━━━━━━━━━━━━━━━━━━━━\u001b[0m \u001b[35m  0%\u001b[0m \u001b[36m-:--:--\u001b[0m\n",
      "\u001b[2K\u001b[1A\u001b[2KScrapping bike ...      \u001b[38;5;237m━━━━━━━━━━━━━━━━━━━━━━━━━━━━━━━━━━━━━━━━\u001b[0m \u001b[35m  0%\u001b[0m \u001b[36m-:--:--\u001b[0m\n",
      "\u001b[2K\u001b[1A\u001b[2KScrapping bike ...      \u001b[38;5;237m━━━━━━━━━━━━━━━━━━━━━━━━━━━━━━━━━━━━━━━━\u001b[0m \u001b[35m  0%\u001b[0m \u001b[36m-:--:--\u001b[0m\n",
      "\u001b[2K\u001b[1A\u001b[2KScrapping bike ...      \u001b[38;5;237m━━━━━━━━━━━━━━━━━━━━━━━━━━━━━━━━━━━━━━━━\u001b[0m \u001b[35m  0%\u001b[0m \u001b[36m-:--:--\u001b[0m\n",
      "\u001b[2K\u001b[1A\u001b[2KScrapping bike ...      \u001b[38;5;237m━━━━━━━━━━━━━━━━━━━━━━━━━━━━━━━━━━━━━━━━\u001b[0m \u001b[35m  0%\u001b[0m \u001b[36m-:--:--\u001b[0m\n",
      "\u001b[2K\u001b[1A\u001b[2KScrapping bike ...      \u001b[38;5;237m━━━━━━━━━━━━━━━━━━━━━━━━━━━━━━━━━━━━━━━━\u001b[0m \u001b[35m  0%\u001b[0m \u001b[36m-:--:--\u001b[0m\n",
      "\u001b[2K\u001b[1A\u001b[2KScrapping bike ...      \u001b[38;5;237m━━━━━━━━━━━━━━━━━━━━━━━━━━━━━━━━━━━━━━━━\u001b[0m \u001b[35m  0%\u001b[0m \u001b[36m-:--:--\u001b[0m\n",
      "\u001b[2K\u001b[1A\u001b[2KScrapping bike ...      \u001b[38;5;237m━━━━━━━━━━━━━━━━━━━━━━━━━━━━━━━━━━━━━━━━\u001b[0m \u001b[35m  0%\u001b[0m \u001b[36m-:--:--\u001b[0m\n",
      "\u001b[2K\u001b[1A\u001b[2KScrapping bike ...      \u001b[38;5;237m━━━━━━━━━━━━━━━━━━━━━━━━━━━━━━━━━━━━━━━━\u001b[0m \u001b[35m  0%\u001b[0m \u001b[36m-:--:--\u001b[0m\n",
      "\u001b[2K\u001b[1A\u001b[2KScrapping bike ...      \u001b[38;5;237m━━━━━━━━━━━━━━━━━━━━━━━━━━━━━━━━━━━━━━━━\u001b[0m \u001b[35m  0%\u001b[0m \u001b[36m-:--:--\u001b[0m\n",
      "\u001b[2K\u001b[1A\u001b[2KScrapping bike ...      \u001b[38;5;237m━━━━━━━━━━━━━━━━━━━━━━━━━━━━━━━━━━━━━━━━\u001b[0m \u001b[35m  0%\u001b[0m \u001b[36m-:--:--\u001b[0m\n",
      "\u001b[2K\u001b[1A\u001b[2KScrapping bike ...      \u001b[38;5;237m━━━━━━━━━━━━━━━━━━━━━━━━━━━━━━━━━━━━━━━━\u001b[0m \u001b[35m  0%\u001b[0m \u001b[36m-:--:--\u001b[0m\n",
      "\u001b[2K\u001b[1A\u001b[2KScrapping bike ...      \u001b[38;5;237m━━━━━━━━━━━━━━━━━━━━━━━━━━━━━━━━━━━━━━━━\u001b[0m \u001b[35m  0%\u001b[0m \u001b[36m-:--:--\u001b[0m\n",
      "\u001b[2K\u001b[1A\u001b[2KScrapping bike ...      \u001b[38;5;237m━━━━━━━━━━━━━━━━━━━━━━━━━━━━━━━━━━━━━━━━\u001b[0m \u001b[35m  0%\u001b[0m \u001b[36m-:--:--\u001b[0m\n",
      "\u001b[2K\u001b[1A\u001b[2KScrapping bike ...      \u001b[38;5;237m━━━━━━━━━━━━━━━━━━━━━━━━━━━━━━━━━━━━━━━━\u001b[0m \u001b[35m  0%\u001b[0m \u001b[36m-:--:--\u001b[0m\n",
      "\u001b[2K\u001b[1A\u001b[2KScrapping bike ...      \u001b[38;5;237m━━━━━━━━━━━━━━━━━━━━━━━━━━━━━━━━━━━━━━━━\u001b[0m \u001b[35m  0%\u001b[0m \u001b[36m-:--:--\u001b[0m\n",
      "\u001b[2K\u001b[1A\u001b[2KScrapping bike ...      \u001b[38;5;237m━━━━━━━━━━━━━━━━━━━━━━━━━━━━━━━━━━━━━━━━\u001b[0m \u001b[35m  0%\u001b[0m \u001b[36m-:--:--\u001b[0m\n",
      "\u001b[2K\u001b[1A\u001b[2KScrapping bike ...      \u001b[38;5;237m━━━━━━━━━━━━━━━━━━━━━━━━━━━━━━━━━━━━━━━━\u001b[0m \u001b[35m  0%\u001b[0m \u001b[36m-:--:--\u001b[0m\n",
      "\u001b[2K\u001b[1A\u001b[2KScrapping bike ...      \u001b[38;5;237m━━━━━━━━━━━━━━━━━━━━━━━━━━━━━━━━━━━━━━━━\u001b[0m \u001b[35m  0%\u001b[0m \u001b[36m-:--:--\u001b[0m\n",
      "\u001b[2K\u001b[1A\u001b[2KScrapping bike ...      \u001b[38;5;237m━━━━━━━━━━━━━━━━━━━━━━━━━━━━━━━━━━━━━━━━\u001b[0m \u001b[35m  0%\u001b[0m \u001b[36m-:--:--\u001b[0m\n",
      "\u001b[2K\u001b[1A\u001b[2KScrapping bike ...      \u001b[38;5;237m━━━━━━━━━━━━━━━━━━━━━━━━━━━━━━━━━━━━━━━━\u001b[0m \u001b[35m  0%\u001b[0m \u001b[36m-:--:--\u001b[0m\n",
      "\u001b[2K\u001b[1A\u001b[2KScrapping bike ...      \u001b[38;2;114;156;31m━━━━━━━━━━━━━━━━━━━━━━━━━━━━━━━━━━━━━━━━\u001b[0m \u001b[35m100%\u001b[0m \u001b[36m0:00:00\u001b[0m\n",
      "\u001b[2K\u001b[1A\u001b[2KScrapping bike ...      \u001b[38;2;114;156;31m━━━━━━━━━━━━━━━━━━━━━━━━━━━━━━━━━━━━━━━━\u001b[0m \u001b[35m100%\u001b[0m \u001b[36m0:00:00\u001b[0mm \u001b[36m-:--:--\u001b[0m\n",
      "\u001b[2K\u001b[1A\u001b[2KScrapping bike ...      \u001b[38;2;114;156;31m━━━━━━━━━━━━━━━━━━━━━━━━━━━━━━━━━━━━━━━━\u001b[0m \u001b[35m100%\u001b[0m \u001b[36m0:00:00\u001b[0m\n",
      "Scrapping bike blue ... \u001b[38;2;114;156;31m━━━━━━━━━━━━━━━━━━━━━━━━━━━━━━━━━━━━━━━━\u001b[0m \u001b[35m100%\u001b[0m \u001b[36m0:00:00\u001b[0m\n",
      "\u001b[?25h"
     ]
    }
   ],
   "source": [
    "# hide\n",
    "! python -m web2dataset.cli 10 'bike' 'bike blue' /tmp/test 2"
   ]
  },
  {
   "cell_type": "code",
   "execution_count": null,
   "id": "4351acb1-c30d-43e1-aee1-c95b667ac93c",
   "metadata": {},
   "outputs": [
    {
     "name": "stdout",
     "output_type": "stream",
     "text": [
      "\u001b[2KScrapping bike blue ... \u001b[38;5;237m━━━━━━━━━━━━━━━━━━━━━━━━━━━━━━━━━━━━━━━━\u001b[0m \u001b[35m  0%\u001b[0m \u001b[36m-:--:--\u001b[0m\n",
      "\u001b[?25h"
     ]
    }
   ],
   "source": [
    "# hide\n",
    "! python -m web2dataset.cli 50  'bike blue'  '' /tmp/test 1"
   ]
  }
 ],
 "metadata": {
  "kernelspec": {
   "display_name": "Python 3 (ipykernel)",
   "language": "python",
   "name": "python3"
  }
 },
 "nbformat": 4,
 "nbformat_minor": 5
}
