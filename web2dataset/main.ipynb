{
 "cells": [
  {
   "cell_type": "code",
   "execution_count": null,
   "id": "01ae2968-57a7-43ae-90e0-1cec043ec985",
   "metadata": {},
   "outputs": [],
   "source": [
    "# default_exp main"
   ]
  },
  {
   "cell_type": "markdown",
   "id": "75ecc9fd-b848-43ac-aba3-0889a618db0a",
   "metadata": {},
   "source": [
    "# main\n",
    "\n",
    "> API details."
   ]
  },
  {
   "cell_type": "code",
   "execution_count": null,
   "id": "e74d1070-3911-4b7f-81ab-01a670a04b21",
   "metadata": {},
   "outputs": [],
   "source": [
    "# hide\n",
    "from nbdev.showdoc import *"
   ]
  },
  {
   "cell_type": "code",
   "execution_count": null,
   "id": "793f1d24-6c85-4fc4-babc-f499b1e7882c",
   "metadata": {},
   "outputs": [],
   "source": [
    "def name():\n",
    "    return \"Web2dataset\""
   ]
  },
  {
   "cell_type": "code",
   "execution_count": null,
   "id": "86de76a4-86a3-4fe8-9411-4f9fb8248866",
   "metadata": {},
   "outputs": [],
   "source": [
    "def main():\n",
    "    print(name)"
   ]
  },
  {
   "cell_type": "markdown",
   "id": "b9bd6a20-5600-4cd1-a735-5ff5a3dc0d74",
   "metadata": {},
   "source": [
    "### Tests"
   ]
  },
  {
   "cell_type": "code",
   "execution_count": null,
   "id": "4e6a9ff7-6cb8-426b-960c-b9019d16654d",
   "metadata": {},
   "outputs": [
    {
     "name": "stderr",
     "output_type": "stream",
     "text": [
      "Error in atexit._run_exitfuncs:\n",
      "Traceback (most recent call last):\n",
      "  File \"/home/samsja/.cache/pypoetry/virtualenvs/web2dataset-r8ftTh7Z-py3.9/lib/python3.9/site-packages/IPython/core/interactiveshell.py\", line 3810, in atexit_operations\n",
      "    self.reset(new_session=False)\n",
      "  File \"/home/samsja/.cache/pypoetry/virtualenvs/web2dataset-r8ftTh7Z-py3.9/lib/python3.9/site-packages/IPython/core/interactiveshell.py\", line 1421, in reset\n",
      "    self.history_manager.reset(new_session)\n",
      "  File \"/home/samsja/.cache/pypoetry/virtualenvs/web2dataset-r8ftTh7Z-py3.9/lib/python3.9/site-packages/IPython/core/history.py\", line 592, in reset\n",
      "    self.dir_hist[:] = [os.getcwd()]\n",
      "FileNotFoundError: [Errno 2] No such file or directory\n"
     ]
    }
   ],
   "source": [
    "assert name() == \"Web2dataset\""
   ]
  }
 ],
 "metadata": {
  "kernelspec": {
   "display_name": "Python 3 (ipykernel)",
   "language": "python",
   "name": "python3"
  }
 },
 "nbformat": 4,
 "nbformat_minor": 5
}
